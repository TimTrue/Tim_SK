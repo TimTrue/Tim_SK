{
 "cells": [
  {
   "attachments": {},
   "cell_type": "markdown",
   "metadata": {},
   "source": [
    "## 1. Введение"
   ]
  },
  {
   "cell_type": "code",
   "execution_count": 1,
   "metadata": {},
   "outputs": [],
   "source": [
    "import pandas as pd\n",
    "import numpy as np"
   ]
  },
  {
   "attachments": {},
   "cell_type": "markdown",
   "metadata": {},
   "source": [
    "Цели данного модуля:\n",
    "\n",
    "* Познакомиться с различными способами графического представления данных.\n",
    "* Освоить основные методы визуализации библиотек Matplotlib и Pandas.\n",
    "* Научиться настраивать диаграммы в Matplotlib для повышения их информативности.\n",
    "* Освоить основные методы визуализации библиотеки Seaborn.\n",
    "* Освоить базовые методы интерактивной визуализации и анимации библиотеки Plotly.\n",
    "* Научиться выбирать правильные методы визуализации для конкретных задач."
   ]
  },
  {
   "attachments": {},
   "cell_type": "markdown",
   "metadata": {},
   "source": [
    "### ЗАЧЕМ НУЖНА ВИЗУАЛИЗАЦИЯ?"
   ]
  },
  {
   "attachments": {},
   "cell_type": "markdown",
   "metadata": {},
   "source": [
    "Приведём главные причины использования визуализации:\n",
    "\n",
    "1. Визуальное восприятие физиологически является для человека основным.\n",
    "2. Доказано, что скорость восприятия увеличивается в 60 000 раз, если информация представлена в виде диаграмм.\n",
    "3. Акцентирование внимания на важных деталях.\n",
    "4. Такой способ представления информации не только делает ваш отчёт о проделанной работе эстетически привлекательным, но и помогает сделать результаты анализа понятными, интерпретируемыми, убедительными и удобными для восприятия вашими коллегами.\n",
    "5. Наконец, главное для нас с вами — это то, что визуализация помогает исследователю упростить анализ большого объёма данных со сложной структурой."
   ]
  },
  {
   "attachments": {},
   "cell_type": "markdown",
   "metadata": {},
   "source": [
    "Визуализация является одним из основных инструментов разведывательного анализа данных — EDA (Exploratory Data Analysis) — который в больших проектах всегда предшествует построению моделей.\n",
    "\n",
    "Благодаря графикам становится легче отслеживать взаимосвязи между переменными, проверять гипотезы, находить аномалии в данных, делать важные для бизнеса выводы и строить хорошие модели."
   ]
  },
  {
   "attachments": {},
   "cell_type": "markdown",
   "metadata": {},
   "source": [
    "## 2. Обзор типов визуализации"
   ]
  },
  {
   "attachments": {},
   "cell_type": "markdown",
   "metadata": {},
   "source": [
    "Начнём с терминологи.\n",
    "\n",
    "Система координат — это способ определения положения точки в пространстве или на плоскости. Самая простая система координат — двумерная прямоугольная, или декартова, система координат, с которой вы знакомы из уроков математики в школе. Каждой точке в этой системе соответствуют два значения: значение по оси абсцисс и значение по оси ординат.\n",
    "\n",
    "Ось абсцисс — горизонтальная ось в прямоугольной системе координат. Традиционно её называют осью X.\n",
    "\n",
    "Ось ординат — вертикальная ось в прямоугольной системе координат. Традиционно её называют осью Y."
   ]
  },
  {
   "attachments": {},
   "cell_type": "markdown",
   "metadata": {},
   "source": [
    "ОСНОВНЫЕ ТИПЫ ВИЗУАЛИЗАЦИИ:\n",
    "\n",
    "* линейный график;\n",
    "* гистограмма;\n",
    "* диаграмма рассеяния;\n",
    "* коробчатая диаграмма;\n",
    "* круговая диаграмма;\n",
    "* столбчатая диаграмма;\n",
    "* тепловая карта."
   ]
  },
  {
   "attachments": {},
   "cell_type": "markdown",
   "metadata": {},
   "source": [
    "ЛИНЕЙНЫЙ ГРАФИК (LINEPLOT)\n",
    "\n",
    "Линейный график представляет собой последовательность точек, соединённых линией. Каждая точка — это пара координат x и y, которые отображены по осям абсцисс и ординат (в двумерном случае). "
   ]
  },
  {
   "attachments": {},
   "cell_type": "markdown",
   "metadata": {},
   "source": [
    "ГИСТОГРАММА (HISTOGRAM)\n",
    "\n",
    "Гистограмма — это способ визуализации частоты попадания признака в некоторый численный интервал. Гистограмма состоит из прямоугольников, расположенных вдоль оси x."
   ]
  },
  {
   "attachments": {},
   "cell_type": "markdown",
   "metadata": {},
   "source": [
    "ДИАГРАММА РАССЕЯНИЯ (SCATTERPLOT)\n",
    "\n",
    "График представляет собой облака точек: по оси абсцисс откладывается одна числовая переменная, по оси ординат — вторая, а каждая точка на графике — это запись из таблицы.\n",
    "\n",
    "Диаграммы рассеяния являются стандартным средством визуализации связи между двумя числовыми переменными. Однако через настройки графика в исследование зависимости можно добавить и несколько категориальных переменных."
   ]
  },
  {
   "attachments": {},
   "cell_type": "markdown",
   "metadata": {},
   "source": [
    "КРУГОВАЯ ДИАГРАММА (PIE CHART)\n",
    "\n",
    "Круговая диаграмма представляет собой круг, разделённый на секторы. Весь круг составляет 100 %. Каждый из секторов отображает долю одной из категорий в данных, размер сектора соответствует части целого от круга.\n",
    "\n",
    "Диаграмма является способом визуализации для категориального признака: например, можно визуализировать и сравнивать доли от выручки, которые делает каждый продавец. \n",
    "\n",
    "Круговые диаграммы наглядны, когда нужно показать, как делится на части что-либо целое: например, так можно визуализировать вклад каждого из продавцов в выручку магазина. Однако круговые диаграммы неудобны, когда рассматривается больше одного признака — в этом случае приходится добавлять отдельную диаграмму. Из-за большей информативности столбчатых диаграмм специалисты склонны выбирать именно их."
   ]
  },
  {
   "attachments": {},
   "cell_type": "markdown",
   "metadata": {},
   "source": [
    "СТОЛБЧАТАЯ ДИАГРАММА (BAR CHART)\n",
    "\n",
    "Столбчатая диаграмма также максимально проста: по оси x откладывается некоторый категориальный признак, для каждой категории которого рассчитан некоторый показатель (средняя цена товаров, медианная стоимость нефти, максимальная зафиксированная концентрация газа). Высота столбца и есть значение этого показателя. "
   ]
  },
  {
   "attachments": {},
   "cell_type": "markdown",
   "metadata": {},
   "source": [
    "Начинающие исследователи часто путают столбчатые диаграммы с гистограммами. Приведём основные различия этих двух видов графиков:\n",
    "\n",
    "Что показывают?\n",
    "Г: Распределение числового признака (как часто значения признака попадают в каждый из выделенных интервалов)\n",
    "СД: Сравнение категорий признака по заданному показателю\n",
    "\n",
    "Число столбцов\n",
    "Г: Задаётся пользователем\n",
    "СД: Равно числу категорий\n",
    "\n",
    "Размещение столбцов\n",
    "Г: Непрерывно\n",
    "СД: Дискретно\n",
    "\n",
    "Пример применения\n",
    "Г: Распределение размера заработной платы в России (до 20 тысяч, от 21 до 40 тысяч, от 41 до 60 тысяч…)\n",
    "Д: Средняя заработная плата по отраслям экономики, субъектам РФ, полу и прочее"
   ]
  },
  {
   "attachments": {},
   "cell_type": "markdown",
   "metadata": {},
   "source": [
    "ТЕПЛОВАЯ КАРТА (HEATMAP)\n",
    "\n",
    "Тепловая карта — это графическое представление некоторой таблицы, где значения в ячейках выделяются определённым цветом или интенсивностью цвета. Таблицей может быть как DataFrame, так и, например, изображение.\n",
    "\n",
    "Способы применения тепловых карт разнообразны: от визуализации категорий объектов на изображениях до графического представления матриц.\n",
    "\n",
    "При исследовании табличных данных тепловые карты чаще всего применяются для визуализации сводных таблиц."
   ]
  },
  {
   "attachments": {},
   "cell_type": "markdown",
   "metadata": {},
   "source": [
    "КОРОБЧАТАЯ ДИАГРАММА (BOXPLOT, BOX AND WHISKER PLOT)\n",
    "\n",
    "Коробчатые диаграммы, которые были введены в употребление Джоном Тьюки в 1977 году, являются новым типом диаграмм для исследования распределения числового признака по отношению к предыдущим. Диаграмма основана на понятии квантилей.\n",
    "\n",
    "Для построения коробчатой диаграммы надо знать три характеристики:\n",
    "\n",
    "Q25 — 25 % квантиль;\n",
    "Q50 — 50 % квантиль, или медиана;\n",
    "Q75 — 75 % квантиль.\n",
    "\n",
    "Основные составляющие графика:\n",
    "\n",
    "1. Ящик, или коробка. Левая граница коробки соответствует значению , правая — , а линия внутри коробки — медиане. Ширина ящика называется межквартильным размахом (Interquartile range) и вычисляется как IQR = Q75-Q25.\n",
    "2. Усы ящика, длина которых равна 1,5IQR. Крайние точки усов часто обозначаются в литературе как min и max и называются границами распределения. Фактически эти точки не всегда являются истинными минимумом и максимумом признака.\n",
    "3. Потенциальные выбросы — точки, лежащие за пределами границ. Согласно теории Тьюки, эти точки следует считать аномалиями и они подлежат исключению из данных. Однако на практике так бывает не всегда, и необходимо проводить дополнительное исследование. Об этом мы будем говорить подробнее в модуле по очистке данных."
   ]
  },
  {
   "attachments": {},
   "cell_type": "markdown",
   "metadata": {},
   "source": [
    "### 3. Знакомимся с новыми данными: коронавирус"
   ]
  },
  {
   "cell_type": "code",
   "execution_count": 2,
   "metadata": {},
   "outputs": [
    {
     "data": {
      "text/html": [
       "<div>\n",
       "<style scoped>\n",
       "    .dataframe tbody tr th:only-of-type {\n",
       "        vertical-align: middle;\n",
       "    }\n",
       "\n",
       "    .dataframe tbody tr th {\n",
       "        vertical-align: top;\n",
       "    }\n",
       "\n",
       "    .dataframe thead th {\n",
       "        text-align: right;\n",
       "    }\n",
       "</style>\n",
       "<table border=\"1\" class=\"dataframe\">\n",
       "  <thead>\n",
       "    <tr style=\"text-align: right;\">\n",
       "      <th></th>\n",
       "      <th>date</th>\n",
       "      <th>province/state</th>\n",
       "      <th>country</th>\n",
       "      <th>confirmed</th>\n",
       "      <th>deaths</th>\n",
       "      <th>recovered</th>\n",
       "    </tr>\n",
       "  </thead>\n",
       "  <tbody>\n",
       "    <tr>\n",
       "      <th>0</th>\n",
       "      <td>01/22/2020</td>\n",
       "      <td>Anhui</td>\n",
       "      <td>China</td>\n",
       "      <td>1.0</td>\n",
       "      <td>0.0</td>\n",
       "      <td>0.0</td>\n",
       "    </tr>\n",
       "    <tr>\n",
       "      <th>1</th>\n",
       "      <td>01/22/2020</td>\n",
       "      <td>Beijing</td>\n",
       "      <td>China</td>\n",
       "      <td>14.0</td>\n",
       "      <td>0.0</td>\n",
       "      <td>0.0</td>\n",
       "    </tr>\n",
       "    <tr>\n",
       "      <th>2</th>\n",
       "      <td>01/22/2020</td>\n",
       "      <td>Chongqing</td>\n",
       "      <td>China</td>\n",
       "      <td>6.0</td>\n",
       "      <td>0.0</td>\n",
       "      <td>0.0</td>\n",
       "    </tr>\n",
       "    <tr>\n",
       "      <th>3</th>\n",
       "      <td>01/22/2020</td>\n",
       "      <td>Fujian</td>\n",
       "      <td>China</td>\n",
       "      <td>1.0</td>\n",
       "      <td>0.0</td>\n",
       "      <td>0.0</td>\n",
       "    </tr>\n",
       "    <tr>\n",
       "      <th>4</th>\n",
       "      <td>01/22/2020</td>\n",
       "      <td>Gansu</td>\n",
       "      <td>China</td>\n",
       "      <td>0.0</td>\n",
       "      <td>0.0</td>\n",
       "      <td>0.0</td>\n",
       "    </tr>\n",
       "  </tbody>\n",
       "</table>\n",
       "</div>"
      ],
      "text/plain": [
       "         date province/state country  confirmed  deaths  recovered\n",
       "0  01/22/2020          Anhui   China        1.0     0.0        0.0\n",
       "1  01/22/2020        Beijing   China       14.0     0.0        0.0\n",
       "2  01/22/2020      Chongqing   China        6.0     0.0        0.0\n",
       "3  01/22/2020         Fujian   China        1.0     0.0        0.0\n",
       "4  01/22/2020          Gansu   China        0.0     0.0        0.0"
      ]
     },
     "metadata": {},
     "output_type": "display_data"
    }
   ],
   "source": [
    "covid_data = pd.read_csv('data/covid_data.csv')\n",
    "display(covid_data.head())"
   ]
  },
  {
   "attachments": {},
   "cell_type": "markdown",
   "metadata": {},
   "source": [
    "Мы будем работать со следующими столбцами:\n",
    "\n",
    "* date — дата наблюдения;\n",
    "* province/state — наименование провинции/штата;\n",
    "* country — наименование страны;\n",
    "* confirmed — общее число зафиксированных случаев на указанный день;\n",
    "* deaths — общее число зафиксированных смертей на указанный день;\n",
    "* recovered — общее число выздоровлений на указанный день."
   ]
  },
  {
   "cell_type": "code",
   "execution_count": 3,
   "metadata": {},
   "outputs": [],
   "source": [
    "vaccinations_data = pd.read_csv('data/country_vaccinations.csv')\n",
    "vaccinations_data = vaccinations_data[\n",
    "    ['country', 'date', 'total_vaccinations', \n",
    "     'people_vaccinated', 'people_vaccinated_per_hundred',\n",
    "     'people_fully_vaccinated', 'people_fully_vaccinated_per_hundred',\n",
    "     'daily_vaccinations', 'vaccines']\n",
    "]"
   ]
  },
  {
   "attachments": {},
   "cell_type": "markdown",
   "metadata": {},
   "source": [
    "Данная таблица содержит следующие столбцы:\n",
    "\n",
    "country — наименование страны;\n",
    "date — дата наблюдения;\n",
    "total_vaccinations — общее число введённых вакцин в стране на указанный день;\n",
    "people_vaccinated — общее число привитых первым компонентом в стране на указанный день;\n",
    "people_vaccinated_per_hundred — процент привитых первым компонентом в стране на указанный день (рассчитывается как people_vaccinated/population*100);\n",
    "people_fully_vaccinated — общее число привитых вторым компонентом в стране на указанный день (первый компонент уже был введён им ранее);\n",
    "people_fully_vaccinated_per_hundred — процент привитых вторым компонентом в стране на указанный день (рассчитывается как people_fully_vaccinated/population*100);\n",
    "daily_vaccination — ежедневная вакцинация (число вакцинированных в указанный день);\n",
    "vaccines — комбинации вакцин, используемые в стране."
   ]
  },
  {
   "attachments": {},
   "cell_type": "markdown",
   "metadata": {},
   "source": [
    "### НЕМНОГО ОБ ОСОБЕННОСТЯХ ДАННЫХ"
   ]
  },
  {
   "attachments": {},
   "cell_type": "markdown",
   "metadata": {},
   "source": [
    "Обратите внимание, что признаки confirmed, deaths, recovered, total_vaccination, people_vaccinated, people_fully_vaccinated — это суммарные показатели по стране, то есть с каждым днём они должны расти. Такие признаки называют накопительными."
   ]
  },
  {
   "attachments": {},
   "cell_type": "markdown",
   "metadata": {},
   "source": [
    "Возникает большое желание объединить таблицы. Для этого необходимо учитывать следующие нюансы:\n",
    "\n",
    "1. В таблице covid_data необходимо предварительно рассчитать суммарное ежедневное число заболевших во всех провинциях/штатах в каждой стране.\n",
    "2. В таблицах не совпадает число стран, а иногда и их названия. При объединении таблиц по столбцу мы определённо теряем данные (в данной задаче потери незначительны). Избежать этого можно ручными преобразованиями данных — искать различия в названиях стран в таблицах и преобразовывать их. Однако это не является темой данного модуля.\n",
    "3. Таблицы имеют разные периоды наблюдений (вакцины появились позже, чем сам вирус). Объединив данные с типом inner, мы можем потерять большое количество наблюдений в таблице covid_data."
   ]
  },
  {
   "attachments": {},
   "cell_type": "markdown",
   "metadata": {},
   "source": [
    "### ПРЕДОБРАБОТКА ДАННЫХ"
   ]
  },
  {
   "attachments": {},
   "cell_type": "markdown",
   "metadata": {},
   "source": [
    "Опираясь на замечания выше, выполним небольшую предобработку.\n",
    "\n",
    "В таблице covid_data:\n",
    "\n",
    "1. Группируем таблицу по дате и названию страны и рассчитываем суммарные показатели по всем регионам. Тем самым переходим от данных по регионам к данным по странам:"
   ]
  },
  {
   "cell_type": "code",
   "execution_count": 4,
   "metadata": {},
   "outputs": [],
   "source": [
    "covid_data = covid_data.groupby(\n",
    "    ['date', 'country'], \n",
    "    as_index=False\n",
    ")[['confirmed', 'deaths', 'recovered']].sum()"
   ]
  },
  {
   "cell_type": "code",
   "execution_count": 5,
   "metadata": {},
   "outputs": [
    {
     "data": {
      "text/html": [
       "<div>\n",
       "<style scoped>\n",
       "    .dataframe tbody tr th:only-of-type {\n",
       "        vertical-align: middle;\n",
       "    }\n",
       "\n",
       "    .dataframe tbody tr th {\n",
       "        vertical-align: top;\n",
       "    }\n",
       "\n",
       "    .dataframe thead th {\n",
       "        text-align: right;\n",
       "    }\n",
       "</style>\n",
       "<table border=\"1\" class=\"dataframe\">\n",
       "  <thead>\n",
       "    <tr style=\"text-align: right;\">\n",
       "      <th></th>\n",
       "      <th>date</th>\n",
       "      <th>country</th>\n",
       "      <th>confirmed</th>\n",
       "      <th>deaths</th>\n",
       "      <th>recovered</th>\n",
       "    </tr>\n",
       "  </thead>\n",
       "  <tbody>\n",
       "    <tr>\n",
       "      <th>0</th>\n",
       "      <td>01/01/2021</td>\n",
       "      <td>Afghanistan</td>\n",
       "      <td>51526.0</td>\n",
       "      <td>2191.0</td>\n",
       "      <td>41727.0</td>\n",
       "    </tr>\n",
       "    <tr>\n",
       "      <th>1</th>\n",
       "      <td>01/01/2021</td>\n",
       "      <td>Albania</td>\n",
       "      <td>58316.0</td>\n",
       "      <td>1181.0</td>\n",
       "      <td>33634.0</td>\n",
       "    </tr>\n",
       "    <tr>\n",
       "      <th>2</th>\n",
       "      <td>01/01/2021</td>\n",
       "      <td>Algeria</td>\n",
       "      <td>99897.0</td>\n",
       "      <td>2762.0</td>\n",
       "      <td>67395.0</td>\n",
       "    </tr>\n",
       "    <tr>\n",
       "      <th>3</th>\n",
       "      <td>01/01/2021</td>\n",
       "      <td>Andorra</td>\n",
       "      <td>8117.0</td>\n",
       "      <td>84.0</td>\n",
       "      <td>7463.0</td>\n",
       "    </tr>\n",
       "    <tr>\n",
       "      <th>4</th>\n",
       "      <td>01/01/2021</td>\n",
       "      <td>Angola</td>\n",
       "      <td>17568.0</td>\n",
       "      <td>405.0</td>\n",
       "      <td>11146.0</td>\n",
       "    </tr>\n",
       "    <tr>\n",
       "      <th>...</th>\n",
       "      <td>...</td>\n",
       "      <td>...</td>\n",
       "      <td>...</td>\n",
       "      <td>...</td>\n",
       "      <td>...</td>\n",
       "    </tr>\n",
       "    <tr>\n",
       "      <th>86780</th>\n",
       "      <td>12/31/2020</td>\n",
       "      <td>Vietnam</td>\n",
       "      <td>1465.0</td>\n",
       "      <td>35.0</td>\n",
       "      <td>1325.0</td>\n",
       "    </tr>\n",
       "    <tr>\n",
       "      <th>86781</th>\n",
       "      <td>12/31/2020</td>\n",
       "      <td>West Bank and Gaza</td>\n",
       "      <td>138004.0</td>\n",
       "      <td>1400.0</td>\n",
       "      <td>117183.0</td>\n",
       "    </tr>\n",
       "    <tr>\n",
       "      <th>86782</th>\n",
       "      <td>12/31/2020</td>\n",
       "      <td>Yemen</td>\n",
       "      <td>2099.0</td>\n",
       "      <td>610.0</td>\n",
       "      <td>1394.0</td>\n",
       "    </tr>\n",
       "    <tr>\n",
       "      <th>86783</th>\n",
       "      <td>12/31/2020</td>\n",
       "      <td>Zambia</td>\n",
       "      <td>20725.0</td>\n",
       "      <td>388.0</td>\n",
       "      <td>18660.0</td>\n",
       "    </tr>\n",
       "    <tr>\n",
       "      <th>86784</th>\n",
       "      <td>12/31/2020</td>\n",
       "      <td>Zimbabwe</td>\n",
       "      <td>13867.0</td>\n",
       "      <td>363.0</td>\n",
       "      <td>11250.0</td>\n",
       "    </tr>\n",
       "  </tbody>\n",
       "</table>\n",
       "<p>86785 rows × 5 columns</p>\n",
       "</div>"
      ],
      "text/plain": [
       "             date             country  confirmed  deaths  recovered\n",
       "0      01/01/2021         Afghanistan    51526.0  2191.0    41727.0\n",
       "1      01/01/2021             Albania    58316.0  1181.0    33634.0\n",
       "2      01/01/2021             Algeria    99897.0  2762.0    67395.0\n",
       "3      01/01/2021             Andorra     8117.0    84.0     7463.0\n",
       "4      01/01/2021              Angola    17568.0   405.0    11146.0\n",
       "...           ...                 ...        ...     ...        ...\n",
       "86780  12/31/2020             Vietnam     1465.0    35.0     1325.0\n",
       "86781  12/31/2020  West Bank and Gaza   138004.0  1400.0   117183.0\n",
       "86782  12/31/2020               Yemen     2099.0   610.0     1394.0\n",
       "86783  12/31/2020              Zambia    20725.0   388.0    18660.0\n",
       "86784  12/31/2020            Zimbabwe    13867.0   363.0    11250.0\n",
       "\n",
       "[86785 rows x 5 columns]"
      ]
     },
     "metadata": {},
     "output_type": "display_data"
    }
   ],
   "source": [
    "display(covid_data)"
   ]
  },
  {
   "attachments": {},
   "cell_type": "markdown",
   "metadata": {},
   "source": [
    "2. Преобразуем даты в формат datetime с помощью функции pd.to_datetime():"
   ]
  },
  {
   "cell_type": "code",
   "execution_count": 6,
   "metadata": {},
   "outputs": [],
   "source": [
    "covid_data['date'] = pd.to_datetime(covid_data['date'])"
   ]
  },
  {
   "attachments": {},
   "cell_type": "markdown",
   "metadata": {},
   "source": [
    "3. Создадим признак больных на данный момент (active). Для этого вычтем из общего числа зафиксированных случаев число смертей и число выздоровевших пациентов:"
   ]
  },
  {
   "cell_type": "code",
   "execution_count": 7,
   "metadata": {},
   "outputs": [],
   "source": [
    "covid_data['active'] = covid_data['confirmed'] - covid_data['deaths'] - covid_data['recovered']"
   ]
  },
  {
   "attachments": {},
   "cell_type": "markdown",
   "metadata": {},
   "source": [
    "4. Создадим признак ежедневного прироста числа заболевших, умерших и выздоровевших людей. Для этого отсортируем данные по названиям стран, а затем по датам. После этого произведём группировку по странам и рассчитаем разницу между «вчера и сегодня» с помощью метода diff():"
   ]
  },
  {
   "cell_type": "code",
   "execution_count": 8,
   "metadata": {},
   "outputs": [],
   "source": [
    "covid_data = covid_data.sort_values(by=['country', 'date'])\n",
    "covid_data['daily_confirmed'] = covid_data.groupby('country')['confirmed'].diff()\n",
    "covid_data['daily_deaths'] = covid_data.groupby('country')['deaths'].diff()\n",
    "covid_data['daily_recovered'] = covid_data.groupby('country')['recovered'].diff()"
   ]
  },
  {
   "attachments": {},
   "cell_type": "markdown",
   "metadata": {},
   "source": [
    "Итоговый вид таблицы covid_data:"
   ]
  },
  {
   "cell_type": "code",
   "execution_count": 9,
   "metadata": {},
   "outputs": [
    {
     "data": {
      "text/html": [
       "<div>\n",
       "<style scoped>\n",
       "    .dataframe tbody tr th:only-of-type {\n",
       "        vertical-align: middle;\n",
       "    }\n",
       "\n",
       "    .dataframe tbody tr th {\n",
       "        vertical-align: top;\n",
       "    }\n",
       "\n",
       "    .dataframe thead th {\n",
       "        text-align: right;\n",
       "    }\n",
       "</style>\n",
       "<table border=\"1\" class=\"dataframe\">\n",
       "  <thead>\n",
       "    <tr style=\"text-align: right;\">\n",
       "      <th></th>\n",
       "      <th>date</th>\n",
       "      <th>country</th>\n",
       "      <th>confirmed</th>\n",
       "      <th>deaths</th>\n",
       "      <th>recovered</th>\n",
       "      <th>active</th>\n",
       "      <th>daily_confirmed</th>\n",
       "      <th>daily_deaths</th>\n",
       "      <th>daily_recovered</th>\n",
       "    </tr>\n",
       "  </thead>\n",
       "  <tbody>\n",
       "    <tr>\n",
       "      <th>11337</th>\n",
       "      <td>2020-02-24</td>\n",
       "      <td>Afghanistan</td>\n",
       "      <td>1.0</td>\n",
       "      <td>0.0</td>\n",
       "      <td>0.0</td>\n",
       "      <td>1.0</td>\n",
       "      <td>NaN</td>\n",
       "      <td>NaN</td>\n",
       "      <td>NaN</td>\n",
       "    </tr>\n",
       "    <tr>\n",
       "      <th>11570</th>\n",
       "      <td>2020-02-25</td>\n",
       "      <td>Afghanistan</td>\n",
       "      <td>1.0</td>\n",
       "      <td>0.0</td>\n",
       "      <td>0.0</td>\n",
       "      <td>1.0</td>\n",
       "      <td>0.0</td>\n",
       "      <td>0.0</td>\n",
       "      <td>0.0</td>\n",
       "    </tr>\n",
       "    <tr>\n",
       "      <th>11807</th>\n",
       "      <td>2020-02-26</td>\n",
       "      <td>Afghanistan</td>\n",
       "      <td>1.0</td>\n",
       "      <td>0.0</td>\n",
       "      <td>0.0</td>\n",
       "      <td>1.0</td>\n",
       "      <td>0.0</td>\n",
       "      <td>0.0</td>\n",
       "      <td>0.0</td>\n",
       "    </tr>\n",
       "    <tr>\n",
       "      <th>12051</th>\n",
       "      <td>2020-02-27</td>\n",
       "      <td>Afghanistan</td>\n",
       "      <td>1.0</td>\n",
       "      <td>0.0</td>\n",
       "      <td>0.0</td>\n",
       "      <td>1.0</td>\n",
       "      <td>0.0</td>\n",
       "      <td>0.0</td>\n",
       "      <td>0.0</td>\n",
       "    </tr>\n",
       "    <tr>\n",
       "      <th>12299</th>\n",
       "      <td>2020-02-28</td>\n",
       "      <td>Afghanistan</td>\n",
       "      <td>1.0</td>\n",
       "      <td>0.0</td>\n",
       "      <td>0.0</td>\n",
       "      <td>1.0</td>\n",
       "      <td>0.0</td>\n",
       "      <td>0.0</td>\n",
       "      <td>0.0</td>\n",
       "    </tr>\n",
       "    <tr>\n",
       "      <th>...</th>\n",
       "      <td>...</td>\n",
       "      <td>...</td>\n",
       "      <td>...</td>\n",
       "      <td>...</td>\n",
       "      <td>...</td>\n",
       "      <td>...</td>\n",
       "      <td>...</td>\n",
       "      <td>...</td>\n",
       "      <td>...</td>\n",
       "    </tr>\n",
       "    <tr>\n",
       "      <th>15933</th>\n",
       "      <td>2020-03-12</td>\n",
       "      <td>occupied Palestinian territory</td>\n",
       "      <td>0.0</td>\n",
       "      <td>0.0</td>\n",
       "      <td>0.0</td>\n",
       "      <td>0.0</td>\n",
       "      <td>0.0</td>\n",
       "      <td>0.0</td>\n",
       "      <td>0.0</td>\n",
       "    </tr>\n",
       "    <tr>\n",
       "      <th>16595</th>\n",
       "      <td>2020-03-14</td>\n",
       "      <td>occupied Palestinian territory</td>\n",
       "      <td>0.0</td>\n",
       "      <td>0.0</td>\n",
       "      <td>0.0</td>\n",
       "      <td>0.0</td>\n",
       "      <td>0.0</td>\n",
       "      <td>0.0</td>\n",
       "      <td>0.0</td>\n",
       "    </tr>\n",
       "    <tr>\n",
       "      <th>16938</th>\n",
       "      <td>2020-03-15</td>\n",
       "      <td>occupied Palestinian territory</td>\n",
       "      <td>0.0</td>\n",
       "      <td>0.0</td>\n",
       "      <td>0.0</td>\n",
       "      <td>0.0</td>\n",
       "      <td>0.0</td>\n",
       "      <td>0.0</td>\n",
       "      <td>0.0</td>\n",
       "    </tr>\n",
       "    <tr>\n",
       "      <th>17290</th>\n",
       "      <td>2020-03-16</td>\n",
       "      <td>occupied Palestinian territory</td>\n",
       "      <td>0.0</td>\n",
       "      <td>0.0</td>\n",
       "      <td>0.0</td>\n",
       "      <td>0.0</td>\n",
       "      <td>0.0</td>\n",
       "      <td>0.0</td>\n",
       "      <td>0.0</td>\n",
       "    </tr>\n",
       "    <tr>\n",
       "      <th>17645</th>\n",
       "      <td>2020-03-17</td>\n",
       "      <td>occupied Palestinian territory</td>\n",
       "      <td>0.0</td>\n",
       "      <td>0.0</td>\n",
       "      <td>0.0</td>\n",
       "      <td>0.0</td>\n",
       "      <td>0.0</td>\n",
       "      <td>0.0</td>\n",
       "      <td>0.0</td>\n",
       "    </tr>\n",
       "  </tbody>\n",
       "</table>\n",
       "<p>86785 rows × 9 columns</p>\n",
       "</div>"
      ],
      "text/plain": [
       "            date                         country  confirmed  deaths  \\\n",
       "11337 2020-02-24                     Afghanistan        1.0     0.0   \n",
       "11570 2020-02-25                     Afghanistan        1.0     0.0   \n",
       "11807 2020-02-26                     Afghanistan        1.0     0.0   \n",
       "12051 2020-02-27                     Afghanistan        1.0     0.0   \n",
       "12299 2020-02-28                     Afghanistan        1.0     0.0   \n",
       "...          ...                             ...        ...     ...   \n",
       "15933 2020-03-12  occupied Palestinian territory        0.0     0.0   \n",
       "16595 2020-03-14  occupied Palestinian territory        0.0     0.0   \n",
       "16938 2020-03-15  occupied Palestinian territory        0.0     0.0   \n",
       "17290 2020-03-16  occupied Palestinian territory        0.0     0.0   \n",
       "17645 2020-03-17  occupied Palestinian territory        0.0     0.0   \n",
       "\n",
       "       recovered  active  daily_confirmed  daily_deaths  daily_recovered  \n",
       "11337        0.0     1.0              NaN           NaN              NaN  \n",
       "11570        0.0     1.0              0.0           0.0              0.0  \n",
       "11807        0.0     1.0              0.0           0.0              0.0  \n",
       "12051        0.0     1.0              0.0           0.0              0.0  \n",
       "12299        0.0     1.0              0.0           0.0              0.0  \n",
       "...          ...     ...              ...           ...              ...  \n",
       "15933        0.0     0.0              0.0           0.0              0.0  \n",
       "16595        0.0     0.0              0.0           0.0              0.0  \n",
       "16938        0.0     0.0              0.0           0.0              0.0  \n",
       "17290        0.0     0.0              0.0           0.0              0.0  \n",
       "17645        0.0     0.0              0.0           0.0              0.0  \n",
       "\n",
       "[86785 rows x 9 columns]"
      ]
     },
     "metadata": {},
     "output_type": "display_data"
    }
   ],
   "source": [
    "display(covid_data)"
   ]
  },
  {
   "attachments": {},
   "cell_type": "markdown",
   "metadata": {},
   "source": [
    "В таблице vaccinations_data достаточно будет преобразовать столбцы в формат datetime:"
   ]
  },
  {
   "cell_type": "code",
   "execution_count": 10,
   "metadata": {},
   "outputs": [],
   "source": [
    "vaccinations_data['date'] = pd.to_datetime(vaccinations_data['date'])"
   ]
  },
  {
   "attachments": {},
   "cell_type": "markdown",
   "metadata": {},
   "source": [
    "Итак, мы произвели некоторую предобработку данных. Дальнейшее объединение таблиц остаётся за вами (обязательно выполните задания ниже, прежде чем двигаться дальше)."
   ]
  },
  {
   "attachments": {},
   "cell_type": "markdown",
   "metadata": {},
   "source": [
    "### Задание 3.1\n",
    "\n",
    "За какой период представлены данные в таблице covid_data? В качестве ответа введите даты в формате datetime (без указания времени).\n",
    "Введите ответ в следующем формате (без пробелов): ГГГГ-ММ-ДД-ГГГГ-ММ-ДД"
   ]
  },
  {
   "cell_type": "code",
   "execution_count": 11,
   "metadata": {},
   "outputs": [
    {
     "name": "stdout",
     "output_type": "stream",
     "text": [
      "2020-01-22-2021-05-29\n"
     ]
    }
   ],
   "source": [
    "print(covid_data['date'].min().strftime(\"%Y-%m-%d\"), '-', covid_data['date'].max().strftime(\"%Y-%m-%d\"), sep='')"
   ]
  },
  {
   "attachments": {},
   "cell_type": "markdown",
   "metadata": {},
   "source": [
    "### Задание 3.2\n",
    "\n",
    "За какой период представлены данные в таблице vaccinations_data? В качестве ответа введите даты в формате datetime без указания времени.\n",
    "Введите ответ в следующем формате (без пробелов): ГГГГ-ММ-ДД-ГГГГ-ММ-ДД"
   ]
  },
  {
   "cell_type": "code",
   "execution_count": 12,
   "metadata": {},
   "outputs": [
    {
     "name": "stdout",
     "output_type": "stream",
     "text": [
      "2020-12-02-2021-09-06\n"
     ]
    }
   ],
   "source": [
    "print(vaccinations_data['date'].min().strftime(\"%Y-%m-%d\"), '-', vaccinations_data['date'].max().strftime(\"%Y-%m-%d\"), sep='')"
   ]
  },
  {
   "attachments": {},
   "cell_type": "markdown",
   "metadata": {},
   "source": [
    "### Задание 3.3\n",
    "\n",
    "С помощью метода merge() объедините таблицы covid_data и vaccinations_data по столбцам date и country.\n",
    "Тип объединения выставьте так, чтобы в результирующую таблицу попали только наблюдения за период, вычисленный в задании 3.1. То есть в результирующую таблицу должны попасть все записи из таблицы covid_data и из её пересечения с vaccinations_data, но не более. Результат объединения занесите в переменную covid_df.\n",
    "\n",
    "Сохраните таблицу covid_df — она понадобится нам в следующем юните.\n",
    "\n",
    "Сколько строк и столбцов в таблице covid_df?\n",
    "Введите ответ в виде двух чисел через дефис (например, 333-33): первое число — количество строк, второе число — количество столбцов."
   ]
  },
  {
   "cell_type": "code",
   "execution_count": 13,
   "metadata": {},
   "outputs": [],
   "source": [
    "covid_df = covid_data.merge(\n",
    "    vaccinations_data,\n",
    "    on=['date','country'],\n",
    "    how='left'\n",
    ")"
   ]
  },
  {
   "cell_type": "code",
   "execution_count": 14,
   "metadata": {},
   "outputs": [
    {
     "data": {
      "text/plain": [
       "<bound method DataFrame.info of             date                         country  confirmed  deaths  \\\n",
       "0     2020-02-24                     Afghanistan        1.0     0.0   \n",
       "1     2020-02-25                     Afghanistan        1.0     0.0   \n",
       "2     2020-02-26                     Afghanistan        1.0     0.0   \n",
       "3     2020-02-27                     Afghanistan        1.0     0.0   \n",
       "4     2020-02-28                     Afghanistan        1.0     0.0   \n",
       "...          ...                             ...        ...     ...   \n",
       "86780 2020-03-12  occupied Palestinian territory        0.0     0.0   \n",
       "86781 2020-03-14  occupied Palestinian territory        0.0     0.0   \n",
       "86782 2020-03-15  occupied Palestinian territory        0.0     0.0   \n",
       "86783 2020-03-16  occupied Palestinian territory        0.0     0.0   \n",
       "86784 2020-03-17  occupied Palestinian territory        0.0     0.0   \n",
       "\n",
       "       recovered  active  daily_confirmed  daily_deaths  daily_recovered  \\\n",
       "0            0.0     1.0              NaN           NaN              NaN   \n",
       "1            0.0     1.0              0.0           0.0              0.0   \n",
       "2            0.0     1.0              0.0           0.0              0.0   \n",
       "3            0.0     1.0              0.0           0.0              0.0   \n",
       "4            0.0     1.0              0.0           0.0              0.0   \n",
       "...          ...     ...              ...           ...              ...   \n",
       "86780        0.0     0.0              0.0           0.0              0.0   \n",
       "86781        0.0     0.0              0.0           0.0              0.0   \n",
       "86782        0.0     0.0              0.0           0.0              0.0   \n",
       "86783        0.0     0.0              0.0           0.0              0.0   \n",
       "86784        0.0     0.0              0.0           0.0              0.0   \n",
       "\n",
       "       total_vaccinations  people_vaccinated  people_vaccinated_per_hundred  \\\n",
       "0                     NaN                NaN                            NaN   \n",
       "1                     NaN                NaN                            NaN   \n",
       "2                     NaN                NaN                            NaN   \n",
       "3                     NaN                NaN                            NaN   \n",
       "4                     NaN                NaN                            NaN   \n",
       "...                   ...                ...                            ...   \n",
       "86780                 NaN                NaN                            NaN   \n",
       "86781                 NaN                NaN                            NaN   \n",
       "86782                 NaN                NaN                            NaN   \n",
       "86783                 NaN                NaN                            NaN   \n",
       "86784                 NaN                NaN                            NaN   \n",
       "\n",
       "       people_fully_vaccinated  people_fully_vaccinated_per_hundred  \\\n",
       "0                          NaN                                  NaN   \n",
       "1                          NaN                                  NaN   \n",
       "2                          NaN                                  NaN   \n",
       "3                          NaN                                  NaN   \n",
       "4                          NaN                                  NaN   \n",
       "...                        ...                                  ...   \n",
       "86780                      NaN                                  NaN   \n",
       "86781                      NaN                                  NaN   \n",
       "86782                      NaN                                  NaN   \n",
       "86783                      NaN                                  NaN   \n",
       "86784                      NaN                                  NaN   \n",
       "\n",
       "       daily_vaccinations vaccines  \n",
       "0                     NaN      NaN  \n",
       "1                     NaN      NaN  \n",
       "2                     NaN      NaN  \n",
       "3                     NaN      NaN  \n",
       "4                     NaN      NaN  \n",
       "...                   ...      ...  \n",
       "86780                 NaN      NaN  \n",
       "86781                 NaN      NaN  \n",
       "86782                 NaN      NaN  \n",
       "86783                 NaN      NaN  \n",
       "86784                 NaN      NaN  \n",
       "\n",
       "[86785 rows x 16 columns]>"
      ]
     },
     "execution_count": 14,
     "metadata": {},
     "output_type": "execute_result"
    }
   ],
   "source": [
    "covid_df.info"
   ]
  },
  {
   "attachments": {},
   "cell_type": "markdown",
   "metadata": {},
   "source": [
    "В получившейся в задании 3.3 таблице covid_df создайте признаки death_rate — общий процент смертей среди зафиксированных случаев (летальность) и recover_rate — общий процент случаев выздоровления. Данные характеристики рассчитайте как отношение числа смертей (deaths) и числа выздоровлений (recovered) к числу зафиксированных случаев (confirmed) и умножьте результаты на 100%."
   ]
  },
  {
   "cell_type": "code",
   "execution_count": 15,
   "metadata": {},
   "outputs": [],
   "source": [
    "covid_df['death_rate'] = covid_df['deaths'] / covid_df['confirmed'] * 100\n",
    "covid_df['recover_rate'] = covid_df['recovered'] / covid_df['confirmed'] * 100"
   ]
  },
  {
   "cell_type": "code",
   "execution_count": 16,
   "metadata": {},
   "outputs": [
    {
     "data": {
      "text/html": [
       "<div>\n",
       "<style scoped>\n",
       "    .dataframe tbody tr th:only-of-type {\n",
       "        vertical-align: middle;\n",
       "    }\n",
       "\n",
       "    .dataframe tbody tr th {\n",
       "        vertical-align: top;\n",
       "    }\n",
       "\n",
       "    .dataframe thead th {\n",
       "        text-align: right;\n",
       "    }\n",
       "</style>\n",
       "<table border=\"1\" class=\"dataframe\">\n",
       "  <thead>\n",
       "    <tr style=\"text-align: right;\">\n",
       "      <th></th>\n",
       "      <th>date</th>\n",
       "      <th>country</th>\n",
       "      <th>confirmed</th>\n",
       "      <th>deaths</th>\n",
       "      <th>recovered</th>\n",
       "      <th>active</th>\n",
       "      <th>daily_confirmed</th>\n",
       "      <th>daily_deaths</th>\n",
       "      <th>daily_recovered</th>\n",
       "      <th>total_vaccinations</th>\n",
       "      <th>people_vaccinated</th>\n",
       "      <th>people_vaccinated_per_hundred</th>\n",
       "      <th>people_fully_vaccinated</th>\n",
       "      <th>people_fully_vaccinated_per_hundred</th>\n",
       "      <th>daily_vaccinations</th>\n",
       "      <th>vaccines</th>\n",
       "      <th>death_rate</th>\n",
       "      <th>recover_rate</th>\n",
       "    </tr>\n",
       "  </thead>\n",
       "  <tbody>\n",
       "    <tr>\n",
       "      <th>300</th>\n",
       "      <td>2020-12-20</td>\n",
       "      <td>Afghanistan</td>\n",
       "      <td>49817.0</td>\n",
       "      <td>2067.0</td>\n",
       "      <td>39006.0</td>\n",
       "      <td>8744.0</td>\n",
       "      <td>136.0</td>\n",
       "      <td>20.0</td>\n",
       "      <td>393.0</td>\n",
       "      <td>NaN</td>\n",
       "      <td>NaN</td>\n",
       "      <td>NaN</td>\n",
       "      <td>NaN</td>\n",
       "      <td>NaN</td>\n",
       "      <td>NaN</td>\n",
       "      <td>NaN</td>\n",
       "      <td>4.149186</td>\n",
       "      <td>78.298573</td>\n",
       "    </tr>\n",
       "    <tr>\n",
       "      <th>301</th>\n",
       "      <td>2020-12-21</td>\n",
       "      <td>Afghanistan</td>\n",
       "      <td>50013.0</td>\n",
       "      <td>2082.0</td>\n",
       "      <td>39508.0</td>\n",
       "      <td>8423.0</td>\n",
       "      <td>196.0</td>\n",
       "      <td>15.0</td>\n",
       "      <td>502.0</td>\n",
       "      <td>NaN</td>\n",
       "      <td>NaN</td>\n",
       "      <td>NaN</td>\n",
       "      <td>NaN</td>\n",
       "      <td>NaN</td>\n",
       "      <td>NaN</td>\n",
       "      <td>NaN</td>\n",
       "      <td>4.162918</td>\n",
       "      <td>78.995461</td>\n",
       "    </tr>\n",
       "    <tr>\n",
       "      <th>302</th>\n",
       "      <td>2020-12-22</td>\n",
       "      <td>Afghanistan</td>\n",
       "      <td>50190.0</td>\n",
       "      <td>2096.0</td>\n",
       "      <td>39585.0</td>\n",
       "      <td>8509.0</td>\n",
       "      <td>177.0</td>\n",
       "      <td>14.0</td>\n",
       "      <td>77.0</td>\n",
       "      <td>NaN</td>\n",
       "      <td>NaN</td>\n",
       "      <td>NaN</td>\n",
       "      <td>NaN</td>\n",
       "      <td>NaN</td>\n",
       "      <td>NaN</td>\n",
       "      <td>NaN</td>\n",
       "      <td>4.176131</td>\n",
       "      <td>78.870293</td>\n",
       "    </tr>\n",
       "    <tr>\n",
       "      <th>303</th>\n",
       "      <td>2020-12-23</td>\n",
       "      <td>Afghanistan</td>\n",
       "      <td>50433.0</td>\n",
       "      <td>2117.0</td>\n",
       "      <td>39692.0</td>\n",
       "      <td>8624.0</td>\n",
       "      <td>243.0</td>\n",
       "      <td>21.0</td>\n",
       "      <td>107.0</td>\n",
       "      <td>NaN</td>\n",
       "      <td>NaN</td>\n",
       "      <td>NaN</td>\n",
       "      <td>NaN</td>\n",
       "      <td>NaN</td>\n",
       "      <td>NaN</td>\n",
       "      <td>NaN</td>\n",
       "      <td>4.197648</td>\n",
       "      <td>78.702437</td>\n",
       "    </tr>\n",
       "    <tr>\n",
       "      <th>304</th>\n",
       "      <td>2020-12-24</td>\n",
       "      <td>Afghanistan</td>\n",
       "      <td>50655.0</td>\n",
       "      <td>2126.0</td>\n",
       "      <td>40359.0</td>\n",
       "      <td>8170.0</td>\n",
       "      <td>222.0</td>\n",
       "      <td>9.0</td>\n",
       "      <td>667.0</td>\n",
       "      <td>NaN</td>\n",
       "      <td>NaN</td>\n",
       "      <td>NaN</td>\n",
       "      <td>NaN</td>\n",
       "      <td>NaN</td>\n",
       "      <td>NaN</td>\n",
       "      <td>NaN</td>\n",
       "      <td>4.197019</td>\n",
       "      <td>79.674267</td>\n",
       "    </tr>\n",
       "  </tbody>\n",
       "</table>\n",
       "</div>"
      ],
      "text/plain": [
       "          date      country  confirmed  deaths  recovered  active  \\\n",
       "300 2020-12-20  Afghanistan    49817.0  2067.0    39006.0  8744.0   \n",
       "301 2020-12-21  Afghanistan    50013.0  2082.0    39508.0  8423.0   \n",
       "302 2020-12-22  Afghanistan    50190.0  2096.0    39585.0  8509.0   \n",
       "303 2020-12-23  Afghanistan    50433.0  2117.0    39692.0  8624.0   \n",
       "304 2020-12-24  Afghanistan    50655.0  2126.0    40359.0  8170.0   \n",
       "\n",
       "     daily_confirmed  daily_deaths  daily_recovered  total_vaccinations  \\\n",
       "300            136.0          20.0            393.0                 NaN   \n",
       "301            196.0          15.0            502.0                 NaN   \n",
       "302            177.0          14.0             77.0                 NaN   \n",
       "303            243.0          21.0            107.0                 NaN   \n",
       "304            222.0           9.0            667.0                 NaN   \n",
       "\n",
       "     people_vaccinated  people_vaccinated_per_hundred  \\\n",
       "300                NaN                            NaN   \n",
       "301                NaN                            NaN   \n",
       "302                NaN                            NaN   \n",
       "303                NaN                            NaN   \n",
       "304                NaN                            NaN   \n",
       "\n",
       "     people_fully_vaccinated  people_fully_vaccinated_per_hundred  \\\n",
       "300                      NaN                                  NaN   \n",
       "301                      NaN                                  NaN   \n",
       "302                      NaN                                  NaN   \n",
       "303                      NaN                                  NaN   \n",
       "304                      NaN                                  NaN   \n",
       "\n",
       "     daily_vaccinations vaccines  death_rate  recover_rate  \n",
       "300                 NaN      NaN    4.149186     78.298573  \n",
       "301                 NaN      NaN    4.162918     78.995461  \n",
       "302                 NaN      NaN    4.176131     78.870293  \n",
       "303                 NaN      NaN    4.197648     78.702437  \n",
       "304                 NaN      NaN    4.197019     79.674267  "
      ]
     },
     "execution_count": 16,
     "metadata": {},
     "output_type": "execute_result"
    }
   ],
   "source": [
    "covid_df.iloc[300:305]"
   ]
  },
  {
   "attachments": {},
   "cell_type": "markdown",
   "metadata": {},
   "source": [
    "### Задание 3.4\n",
    "\n",
    "Какова максимальная летальность в США (United States) за весь период? Ответ округлите до второго знака после запятой."
   ]
  },
  {
   "cell_type": "code",
   "execution_count": 17,
   "metadata": {},
   "outputs": [
    {
     "data": {
      "text/plain": [
       "Taiwan                 494\n",
       "Japan                  494\n",
       "Thailand               494\n",
       "South Korea            494\n",
       "United States          494\n",
       "                      ... \n",
       "Channel Islands          1\n",
       "Cape Verde               1\n",
       "North Ireland            1\n",
       "East Timor               1\n",
       "Republic of Ireland      1\n",
       "Name: country, Length: 221, dtype: int64"
      ]
     },
     "execution_count": 17,
     "metadata": {},
     "output_type": "execute_result"
    }
   ],
   "source": [
    "covid_df['country'].value_counts()"
   ]
  },
  {
   "cell_type": "code",
   "execution_count": 18,
   "metadata": {},
   "outputs": [
    {
     "data": {
      "text/plain": [
       "7.19"
      ]
     },
     "execution_count": 18,
     "metadata": {},
     "output_type": "execute_result"
    }
   ],
   "source": [
    "round(covid_df[covid_df['country'] == 'United States']['death_rate'].max(),2)"
   ]
  },
  {
   "attachments": {},
   "cell_type": "markdown",
   "metadata": {},
   "source": [
    "### Задание 3.5\n",
    "\n",
    "Чему равен средний процент выздоровевших в России (Russia)? Ответ округлите до второго знака после запятой."
   ]
  },
  {
   "cell_type": "code",
   "execution_count": 19,
   "metadata": {},
   "outputs": [
    {
     "data": {
      "text/plain": [
       "67.06"
      ]
     },
     "execution_count": 19,
     "metadata": {},
     "output_type": "execute_result"
    }
   ],
   "source": [
    "round(covid_df[covid_df['country'] == 'Russia']['recover_rate'].mean(),2)"
   ]
  },
  {
   "attachments": {},
   "cell_type": "markdown",
   "metadata": {},
   "source": [
    "## 4. Графические возможности библиотеки Pandas"
   ]
  },
  {
   "attachments": {},
   "cell_type": "markdown",
   "metadata": {},
   "source": [
    "Примечание. Для визуализации Pandas использует библиотеку matplotlib, о которой мы поговорим в следующем юните. Если попробовать воспользоваться методами визуализации Pandas без предварительной установки matplotlib, вы получите ошибку ImportError. Для установки библиотеки используется стандартная команда, которую нужно выполнить в терминале:"
   ]
  },
  {
   "cell_type": "code",
   "execution_count": 20,
   "metadata": {},
   "outputs": [
    {
     "name": "stdout",
     "output_type": "stream",
     "text": [
      "Collecting matplotlib\n",
      "  Downloading matplotlib-3.6.2-cp311-cp311-win_amd64.whl (7.2 MB)\n",
      "     ---------------------------------------- 7.2/7.2 MB 3.5 MB/s eta 0:00:00\n",
      "Collecting contourpy>=1.0.1\n",
      "  Downloading contourpy-1.0.6-cp311-cp311-win_amd64.whl (163 kB)\n",
      "     -------------------------------------- 163.6/163.6 kB 4.9 MB/s eta 0:00:00\n",
      "Collecting cycler>=0.10\n",
      "  Downloading cycler-0.11.0-py3-none-any.whl (6.4 kB)\n",
      "Collecting fonttools>=4.22.0\n",
      "  Downloading fonttools-4.38.0-py3-none-any.whl (965 kB)\n",
      "     -------------------------------------- 965.4/965.4 kB 3.8 MB/s eta 0:00:00\n",
      "Collecting kiwisolver>=1.0.1\n",
      "  Downloading kiwisolver-1.4.4-cp311-cp311-win_amd64.whl (55 kB)\n",
      "     ---------------------------------------- 55.4/55.4 kB 2.8 MB/s eta 0:00:00\n",
      "Requirement already satisfied: numpy>=1.19 in c:\\users\\artem.truschelev\\appdata\\local\\programs\\python\\python311\\lib\\site-packages (from matplotlib) (1.23.4)\n",
      "Requirement already satisfied: packaging>=20.0 in c:\\users\\artem.truschelev\\appdata\\roaming\\python\\python311\\site-packages (from matplotlib) (21.3)\n",
      "Collecting pillow>=6.2.0\n",
      "  Downloading Pillow-9.3.0-cp311-cp311-win_amd64.whl (2.5 MB)\n",
      "     ---------------------------------------- 2.5/2.5 MB 3.9 MB/s eta 0:00:00\n",
      "Requirement already satisfied: pyparsing>=2.2.1 in c:\\users\\artem.truschelev\\appdata\\roaming\\python\\python311\\site-packages (from matplotlib) (3.0.9)\n",
      "Requirement already satisfied: python-dateutil>=2.7 in c:\\users\\artem.truschelev\\appdata\\roaming\\python\\python311\\site-packages (from matplotlib) (2.8.2)\n",
      "Requirement already satisfied: six>=1.5 in c:\\users\\artem.truschelev\\appdata\\roaming\\python\\python311\\site-packages (from python-dateutil>=2.7->matplotlib) (1.16.0)\n",
      "Installing collected packages: pillow, kiwisolver, fonttools, cycler, contourpy, matplotlib\n",
      "Successfully installed contourpy-1.0.6 cycler-0.11.0 fonttools-4.38.0 kiwisolver-1.4.4 matplotlib-3.6.2 pillow-9.3.0\n",
      "Note: you may need to restart the kernel to use updated packages.\n"
     ]
    }
   ],
   "source": [
    "pip install matplotlib"
   ]
  }
 ],
 "metadata": {
  "kernelspec": {
   "display_name": "Python 3",
   "language": "python",
   "name": "python3"
  },
  "language_info": {
   "codemirror_mode": {
    "name": "ipython",
    "version": 3
   },
   "file_extension": ".py",
   "mimetype": "text/x-python",
   "name": "python",
   "nbconvert_exporter": "python",
   "pygments_lexer": "ipython3",
   "version": "3.11.0"
  },
  "orig_nbformat": 4,
  "vscode": {
   "interpreter": {
    "hash": "d2a6f260e484278d126a39d16ea22c227bf081608cbb766c0442a686f5d966f9"
   }
  }
 },
 "nbformat": 4,
 "nbformat_minor": 2
}
