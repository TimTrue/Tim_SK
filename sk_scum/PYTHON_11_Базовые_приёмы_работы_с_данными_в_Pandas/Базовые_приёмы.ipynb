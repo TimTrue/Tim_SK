{
 "cells": [
  {
   "cell_type": "markdown",
   "metadata": {},
   "source": [
    "# PYTHON-11. Базовые приёмы работы с данными в Pandas "
   ]
  },
  {
   "cell_type": "markdown",
   "metadata": {},
   "source": [
    "## 1. Введение"
   ]
  },
  {
   "cell_type": "markdown",
   "metadata": {},
   "source": [
    "Под предобработкой понимаются следующие этапы работы с данными:\n",
    "\n",
    "* очистка данных от аномальных значений (выбросов);\n",
    "* работа с пропущенными значениями;\n",
    "* удаление признаков, которые не несут полезной информации;\n",
    "* создание новых признаков;\n",
    "* преобразование признаков и приведение данных к необходимому для анализа и модели формату."
   ]
  }
 ],
 "metadata": {
  "kernelspec": {
   "display_name": "Python 3.11.0 64-bit",
   "language": "python",
   "name": "python3"
  },
  "language_info": {
   "name": "python",
   "version": "3.11.0"
  },
  "orig_nbformat": 4,
  "vscode": {
   "interpreter": {
    "hash": "d2a6f260e484278d126a39d16ea22c227bf081608cbb766c0442a686f5d966f9"
   }
  }
 },
 "nbformat": 4,
 "nbformat_minor": 2
}
